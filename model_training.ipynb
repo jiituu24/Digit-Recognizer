{
 "cells": [
  {
   "cell_type": "code",
   "execution_count": 2,
   "id": "08166981",
   "metadata": {},
   "outputs": [],
   "source": [
    "from Model import model"
   ]
  },
  {
   "cell_type": "code",
   "execution_count": 4,
   "id": "3a979407",
   "metadata": {},
   "outputs": [],
   "source": [
    "import tensorflow as tf\n",
    "import numpy as np\n",
    "import csv"
   ]
  },
  {
   "cell_type": "code",
   "execution_count": 5,
   "id": "efcf8d9b",
   "metadata": {},
   "outputs": [],
   "source": [
    "X_train = []\n",
    "Y_train = []\n",
    "\n",
    "with open(\"train.csv\",newline=\"\") as f :\n",
    "\n",
    "    reader = csv.reader(f)\n",
    "    next(reader)\n",
    "    i = 0\n",
    "    for row in reader:\n",
    "        X_train.append(list(map(int,row[1:])))\n",
    "        Y_train.append(int(row[0]))\n",
    "        i+=1\n",
    "\n",
    "X= np.array(X_train)\n",
    "Y = np.array(Y_train)"
   ]
  },
  {
   "cell_type": "code",
   "execution_count": null,
   "id": "917866c3",
   "metadata": {},
   "outputs": [],
   "source": [
    "model.fit(\n",
    "    X,Y,epochs = 100\n",
    ")"
   ]
  },
  {
   "cell_type": "code",
   "execution_count": 8,
   "id": "c706f231",
   "metadata": {},
   "outputs": [],
   "source": [
    "X_test = []\n",
    "\n",
    "with open(\"test.csv\",newline = \"\") as f:\n",
    "    reader = csv.reader(f)\n",
    "    next(reader)\n",
    "\n",
    "    for row in reader :\n",
    "        X_test.append(list(map(int,row)))\n",
    "\n",
    "xt = np.array(X_test)\n"
   ]
  },
  {
   "cell_type": "code",
   "execution_count": null,
   "id": "7e59c3a3",
   "metadata": {},
   "outputs": [],
   "source": [
    "prediction = tf.nn.softmax(model.predict(xt)).numpy()"
   ]
  },
  {
   "cell_type": "code",
   "execution_count": null,
   "id": "57a08665",
   "metadata": {},
   "outputs": [],
   "source": [
    "yhat = []\n",
    "for row in prediction:\n",
    "    maxi = 0\n",
    "\n",
    "    for i in range(len(row)):\n",
    "        if(row[i] > row[maxi]):\n",
    "            maxi = i\n",
    "    \n",
    "    yhat.append(maxi)\n",
    "\n",
    "print(yhat)"
   ]
  }
 ],
 "metadata": {
  "kernelspec": {
   "display_name": "Python 3",
   "language": "python",
   "name": "python3"
  },
  "language_info": {
   "codemirror_mode": {
    "name": "ipython",
    "version": 3
   },
   "file_extension": ".py",
   "mimetype": "text/x-python",
   "name": "python",
   "nbconvert_exporter": "python",
   "pygments_lexer": "ipython3",
   "version": "3.13.3"
  }
 },
 "nbformat": 4,
 "nbformat_minor": 5
}
